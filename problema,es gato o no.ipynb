{
 "cells": [
  {
   "cell_type": "code",
   "execution_count": 12,
   "metadata": {},
   "outputs": [],
   "source": [
    "import numpy as np\n",
    "import matplotlib.pyplot as plt\n",
    "import h5py\n",
    "import scipy\n",
    "from PIL import Image\n",
    "from scipy import ndimage\n",
    "from lr_utils import load_dataset\n",
    "\n",
    "%matplotlib inline"
   ]
  },
  {
   "cell_type": "code",
   "execution_count": 13,
   "metadata": {},
   "outputs": [
    {
     "name": "stdout",
     "output_type": "stream",
     "text": [
      "hi5\n"
     ]
    }
   ],
   "source": [
    "train_set_x_orig, train_set_y, test_set_x_orig, test_set_y, classes = load_dataset()"
   ]
  },
  {
   "cell_type": "code",
   "execution_count": 78,
   "metadata": {},
   "outputs": [
    {
     "name": "stdout",
     "output_type": "stream",
     "text": [
      "y = [1], it's a 'cat' picture.\n"
     ]
    },
    {
     "data": {
      "image/png": "[encoded data removed]",
      "text/plain": [
       "<Figure size 432x288 with 1 Axes>"
      ]
     },
     "metadata": {
      "needs_background": "light"
     },
     "output_type": "display_data"
    }
   ],
   "source": [
    "# Example of a picture\n",
    "index = 19\n",
    "plt.imshow(train_set_x_orig[index])\n",
    "print (\"y = \" + str(train_set_y[:, index]) + \", it's a '\" + classes[np.squeeze(train_set_y[:, index])].decode(\"utf-8\") +  \"' picture.\")"
   ]
  },
  {
   "cell_type": "code",
   "execution_count": 38,
   "metadata": {},
   "outputs": [
    {
     "name": "stdout",
     "output_type": "stream",
     "text": [
      "valores de entrenamiento: 209\n",
      "valores de prueba: 50\n",
      "tamaño: 64*64\n"
     ]
    }
   ],
   "source": [
    "m_train = train_set_x_orig.shape [0]\n",
    "print(\"valores de entrenamiento: \"+ str(m_train))\n",
    "m_test = test_set_x_orig.shape [0]\n",
    "print(\"valores de prueba: \"+ str(m_test))\n",
    "num_px = train_set_x_orig.shape [1]\n",
    "print(\"tamaño: \"+ str(num_px) +\"*\"+ str(num_px))"
   ]
  },
  {
   "cell_type": "code",
   "execution_count": 45,
   "metadata": {},
   "outputs": [
    {
     "name": "stdout",
     "output_type": "stream",
     "text": [
      "reShape set train: (12288, 209)\n",
      "reShape set test: (12288, 50)\n"
     ]
    }
   ],
   "source": [
    "train_set_X_flatten = train_set_x_orig.reshape(train_set_x_orig.shape[0], -1).T\n",
    "print(\"reShape set train: \"+ str(train_set_X_flatten.shape))\n",
    "test_set_X_flatten =test_set_x_orig.reshape(test_set_x_orig.shape[0], -1).T\n",
    "print(\"reShape set test: \"+ str(test_set_X_flatten.shape))"
   ]
  },
  {
   "cell_type": "code",
   "execution_count": 58,
   "metadata": {},
   "outputs": [
    {
     "name": "stdout",
     "output_type": "stream",
     "text": [
      "train/255, valores: 12288\n",
      "test/255, valores: 12288\n"
     ]
    }
   ],
   "source": [
    "train_set_x = train_set_X_flatten/255.\n",
    "print(\"train/255, valores: \"+ str(len(train_set_x)))\n",
    "test_set_x = test_set_X_flatten/255.\n",
    "print(\"test/255, valores: \"+ str(len(test_set_x)))"
   ]
  },
  {
   "cell_type": "code",
   "execution_count": 63,
   "metadata": {},
   "outputs": [
    {
     "name": "stdout",
     "output_type": "stream",
     "text": [
      "[[0.]\n",
      " [0.]\n",
      " [0.]\n",
      " [0.]\n",
      " [0.]]\n",
      "0\n"
     ]
    }
   ],
   "source": [
    "def initialize_with_zeros(dim):\n",
    "    w = np.zeros(shape=(dim, 1), dtype=np.float32)\n",
    "    b = 0\n",
    "    assert(w.shape == (dim, 1))\n",
    "    assert(isinstance(b, float) or isinstance(b, int))\n",
    "    return w, b\n",
    "\n",
    "cantidad = 5\n",
    "w,b = initialize_with_zeros(cantidad)\n",
    "print(w)\n",
    "print(b)"
   ]
  },
  {
   "cell_type": "code",
   "execution_count": 70,
   "metadata": {},
   "outputs": [
    {
     "name": "stdout",
     "output_type": "stream",
     "text": [
      "[0.5        0.98201379]\n"
     ]
    }
   ],
   "source": [
    "def sigmoid(z):\n",
    "    s = 1. / ( 1 + np.exp(-z))\n",
    "    return s\n",
    "\n",
    "prueba= np.array([0,4])\n",
    "print(sigmoid(prueba))"
   ]
  }
 ],
 "metadata": {
  "kernelspec": {
   "display_name": "Python 3",
   "language": "python",
   "name": "python3"
  },
  "language_info": {
   "codemirror_mode": {
    "name": "ipython",
    "version": 3
   },
   "file_extension": ".py",
   "mimetype": "text/x-python",
   "name": "python",
   "nbconvert_exporter": "python",
   "pygments_lexer": "ipython3",
   "version": "3.7.1"
  }
 },
 "nbformat": 4,
 "nbformat_minor": 2
}
